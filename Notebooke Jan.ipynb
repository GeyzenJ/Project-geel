{
 "cells": [
  {
   "cell_type": "markdown",
   "id": "04698d29",
   "metadata": {},
   "source": [
    "# Start van het project\n",
    "\n",
    "1. Data uit mongoDB halen om in een csv te steken."
   ]
  },
  {
   "cell_type": "code",
   "execution_count": 17,
   "id": "225ce526",
   "metadata": {},
   "outputs": [
    {
     "name": "stdout",
     "output_type": "stream",
     "text": [
      "{'_id': ObjectId('62cc1f9ab41dcd4b1beae820'), 'id': ObjectId('621e2e8e67b776a24055b564'), 'type': 'estimated_oxygen_variation', 'data': {'timestamp': '05/24/21 01:03:30', 'Infrared to Red Signal Ratio': -4}}\n"
     ]
    }
   ],
   "source": [
    "# extract query result to\n",
    "%matplotlib inline\n",
    "%reset\n",
    "low_memory=False\n",
    "import pandas as pd\n",
    "import numpy as np\n",
    "from pymongo import MongoClient\n",
    "import matplotlib.pyplot as plt\n",
    "import matplotlib.mlab as mlab\n",
    "from scipy import stats\n",
    "import math\n",
    "import os\n",
    "import ast\n",
    "\n",
    "client = MongoClient(\"mongodb://localhost:27017/\")\n",
    " \n",
    "db = client[\"lifesnaps\"]\n",
    "collection = db[\"fitbit\"]\n",
    "doc = collection.find_one({\"type\": \"estimated_oxygen_variation\"})\n",
    "print(doc)"
   ]
  },
  {
   "cell_type": "markdown",
   "id": "e33223d9",
   "metadata": {},
   "source": [
    "Test query en queries om de data in een list te steken."
   ]
  },
  {
   "cell_type": "code",
   "execution_count": 2,
   "id": "34d38cdf",
   "metadata": {},
   "outputs": [],
   "source": [
    "\n",
    "# test query\n",
    "# from bson import ObjectId\n",
    "\n",
    "# query = {\n",
    "#     \"type\": \"lightly_active_minutes\"\n",
    "# }\n",
    "# docs = collection.find(query).limit(10)\n",
    "# for doc in docs:\n",
    "#     print(doc)\n",
    "\n",
    "# Adjust your query as needed\n",
    "\n",
    "\n",
    "\n",
    "# query = {\n",
    "#     \"type\": \"sleep\"\n",
    "# }  \n",
    "# dataSleep = list(collection.find(query))\n",
    "\n",
    "# query = {\n",
    "#     \"type\": \"steps\"\n",
    "# }\n",
    "# dataSteps = list(collection.find(query))\n",
    "\n",
    "# query = {\n",
    "#     \"type\": \"lightly_active_minutes\"\n",
    "# }\n",
    "# dataLightlyActiveMinutes = list(collection.find(query))\n",
    "\n",
    "# query = {\n",
    "#     \"type\": \"moderately_active_minutes\"\n",
    "# }\n",
    "# dataModeratlyActiveMinutes = list(collection.find(query))\n",
    "\n",
    "# query = {\n",
    "#     \"type\": \"very_active_minutes\"\n",
    "# }\n",
    "# dataVeryActiveMinutes = list(collection.find(query))\n",
    "\n",
    "\n",
    "# Kobe\n",
    "\n",
    "# query = {\n",
    "#     \"type\": \"sedentary_minutes\"\n",
    "# }\n",
    "# dataSedentaryMinutes = list(collection.find(query))\n",
    "\n",
    "# query = {\n",
    "#     \"type\": \"Profile\"\n",
    "# }\n",
    "# dataProfile = list(collection.find(query))\n",
    "\n",
    "# query = {\n",
    "#     \"type\": \"Daily Heart Rate Variability Summary\"\n",
    "# }\n",
    "# dataDailyHeartRateVariabilitySummary = list(collection.find(query)) \n",
    "\n",
    "# query = {\n",
    "#     \"type\": \"resting_heart_rate\"\n",
    "# }\n",
    "# dataRestingHeartRate = list(collection.find(query))"
   ]
  },
  {
   "cell_type": "code",
   "execution_count": 18,
   "id": "d0f3867d",
   "metadata": {},
   "outputs": [
    {
     "name": "stdout",
     "output_type": "stream",
     "text": [
      "Data has been saved to steps.csv\n"
     ]
    }
   ],
   "source": [
    "query = {\n",
    "    \"type\": \"steps\"\n",
    "}\n",
    "\n",
    "\n",
    "dataVeryActiveMinutes = list(collection.find(query))\n",
    "\n",
    "df = pd.DataFrame(dataVeryActiveMinutes)\n",
    "\n",
    "csv = \"steps\"\n",
    "\n",
    "df.to_csv(f\"{csv}.csv\", index=False)\n",
    "\n",
    "print(f\"Data has been saved to {csv}.csv\")"
   ]
  },
  {
   "cell_type": "code",
   "execution_count": 19,
   "id": "61ca8470",
   "metadata": {},
   "outputs": [],
   "source": [
    "df_steps = pd.read_csv(\"steps.csv\")\n",
    "\n",
    "df_steps['data'] = df_steps['data'].apply(eval)\n",
    "df_steps_expanded = pd.concat([df_steps.drop(columns=['data']), df_steps['data'].apply(pd.Series)], axis=1)\n",
    "df_steps_expanded = df_steps_expanded.drop(columns=['_id'])\n",
    "\n",
    "df_steps_expanded.to_csv(\"steps_expanded.csv\", index=False)"
   ]
  },
  {
   "cell_type": "markdown",
   "id": "ee637610",
   "metadata": {},
   "source": [
    "De code om de data naar individuele csv om te zetten"
   ]
  },
  {
   "cell_type": "code",
   "execution_count": 3,
   "id": "74bb2bec",
   "metadata": {},
   "outputs": [],
   "source": [
    "# query = {\n",
    "#     \"type\": \"very_active_minutes\"\n",
    "# }\n",
    "# dataVeryActiveMinutes = list(collection.find(query))\n",
    "\n",
    "# df = pd.DataFrame(dataVeryActiveMinutes)\n",
    "\n",
    "# csv = \"very_active_minutes\"\n",
    "\n",
    "# df.to_csv(f\"{csv}.csv\", index=False)\n",
    "\n",
    "# print(f\"Data has been saved to {csv}.csv\")\n"
   ]
  },
  {
   "cell_type": "markdown",
   "id": "343f1c13",
   "metadata": {},
   "source": [
    "## Sema database omzetten naar CSV\n"
   ]
  },
  {
   "cell_type": "code",
   "execution_count": 4,
   "id": "34b9b693",
   "metadata": {},
   "outputs": [
    {
     "name": "stdout",
     "output_type": "stream",
     "text": [
      "{'_id': ObjectId('62cc7d568e3d174ffc0fbb47'), 'user_id': ObjectId('621e2f1b67b776a240b3d87c'), 'data': {'PARTICIPANT_ID': 's523044002', 'STUDY_ID': 'uk96OixJ-', 'STUDY_NAME': 'RAIS Consortium Experiment v2.0', 'STUDY_VERSION': 5, 'SURVEY_ID': 'BjTcu3Lg-', 'SURVEY_NAME': 'Context and Mood Survey', 'TRIGGER': 'scheduled', 'START_END': 1, 'CREATED_TS': '2021-12-15T15:26:00', 'SCHEDULED_TS': '2021-12-15T15:16:00', 'STARTED_TS': '2021-12-15T15:26:00', 'COMPLETED_TS': '2021-12-15T15:26:00', 'EXPIRED_TS': None, 'UPLOADED_TS': '2021-12-15T15:26:00', 'TOTAL_RT': '10030', 'RAND_PROB': '<no-response>', 'PLACE': 'HOME', 'PLACE_RT': '2440', 'OTHER': '<not-shown>', 'OTHER_RT': '<not-shown>', 'MOOD': 'TENSE/ANXIOUS', 'MOOD_RT': '7590', 'STEPS': '<no-response>', 'STEPS_RT': '<no-response>'}}\n"
     ]
    }
   ],
   "source": [
    "client = MongoClient(\"mongodb://localhost:27017/\")\n",
    " \n",
    "db = client[\"lifesnaps\"]\n",
    "collection = db[\"sema\"]\n",
    "doc = collection.find_one({\"data.SURVEY_NAME\": \"Context and Mood Survey\"})\n",
    "print(doc)"
   ]
  },
  {
   "cell_type": "code",
   "execution_count": 5,
   "id": "a9319ac2",
   "metadata": {},
   "outputs": [
    {
     "name": "stdout",
     "output_type": "stream",
     "text": [
      "{'_id': ObjectId('62cc7d568e3d174ffc0fbb47'), 'user_id': ObjectId('621e2f1b67b776a240b3d87c'), 'data': {'PARTICIPANT_ID': 's523044002', 'STUDY_ID': 'uk96OixJ-', 'STUDY_NAME': 'RAIS Consortium Experiment v2.0', 'STUDY_VERSION': 5, 'SURVEY_ID': 'BjTcu3Lg-', 'SURVEY_NAME': 'Context and Mood Survey', 'TRIGGER': 'scheduled', 'START_END': 1, 'CREATED_TS': '2021-12-15T15:26:00', 'SCHEDULED_TS': '2021-12-15T15:16:00', 'STARTED_TS': '2021-12-15T15:26:00', 'COMPLETED_TS': '2021-12-15T15:26:00', 'EXPIRED_TS': None, 'UPLOADED_TS': '2021-12-15T15:26:00', 'TOTAL_RT': '10030', 'RAND_PROB': '<no-response>', 'PLACE': 'HOME', 'PLACE_RT': '2440', 'OTHER': '<not-shown>', 'OTHER_RT': '<not-shown>', 'MOOD': 'TENSE/ANXIOUS', 'MOOD_RT': '7590', 'STEPS': '<no-response>', 'STEPS_RT': '<no-response>'}}\n",
      "{'_id': ObjectId('62cc7d568e3d174ffc0fbb49'), 'user_id': ObjectId('621e340467b776a2402d7982'), 'data': {'PARTICIPANT_ID': 's926411913', 'STUDY_ID': 'uk96OixJ-', 'STUDY_NAME': 'RAIS Consortium Experiment v2.0', 'STUDY_VERSION': 5, 'SURVEY_ID': 'BjTcu3Lg-', 'SURVEY_NAME': 'Context and Mood Survey', 'TRIGGER': 'scheduled', 'START_END': 1, 'CREATED_TS': '2021-11-16T09:43:00', 'SCHEDULED_TS': '2021-11-16T09:43:00', 'STARTED_TS': '2021-11-16T09:43:00', 'COMPLETED_TS': '2021-11-16T09:43:00', 'EXPIRED_TS': None, 'UPLOADED_TS': '2021-11-16T09:43:00', 'TOTAL_RT': '20029', 'RAND_PROB': '<no-response>', 'PLACE': 'WORK/SCHOOL', 'PLACE_RT': '6428', 'OTHER': '<not-shown>', 'OTHER_RT': '<not-shown>', 'MOOD': 'TIRED', 'MOOD_RT': '13601', 'STEPS': '<no-response>', 'STEPS_RT': '<no-response>'}}\n",
      "{'_id': ObjectId('62cc7d568e3d174ffc0fbb4a'), 'user_id': ObjectId('621e346f67b776a24081744f'), 'data': {'PARTICIPANT_ID': 's567810400', 'STUDY_ID': 'uk96OixJ-', 'STUDY_NAME': 'RAIS Consortium Experiment v2.0', 'STUDY_VERSION': 5, 'SURVEY_ID': 'BjTcu3Lg-', 'SURVEY_NAME': 'Context and Mood Survey', 'TRIGGER': 'scheduled', 'START_END': 1, 'CREATED_TS': '2021-12-16T20:00:00', 'SCHEDULED_TS': '2021-12-16T16:00:00', 'STARTED_TS': None, 'COMPLETED_TS': None, 'EXPIRED_TS': '2021-12-16T20:00:00', 'UPLOADED_TS': None, 'TOTAL_RT': '<no-response>', 'RAND_PROB': '<no-response>', 'PLACE': '<no-response>', 'PLACE_RT': '<no-response>', 'OTHER': '<no-response>', 'OTHER_RT': '<no-response>', 'MOOD': '<no-response>', 'MOOD_RT': '<no-response>', 'STEPS': '<no-response>', 'STEPS_RT': '<no-response>'}}\n",
      "{'_id': ObjectId('62cc7d568e3d174ffc0fbb4c'), 'user_id': ObjectId('621e340467b776a2402d7982'), 'data': {'PARTICIPANT_ID': 's926411913', 'STUDY_ID': 'uk96OixJ-', 'STUDY_NAME': 'RAIS Consortium Experiment v2.0', 'STUDY_VERSION': 5, 'SURVEY_ID': 'BjTcu3Lg-', 'SURVEY_NAME': 'Context and Mood Survey', 'TRIGGER': 'scheduled', 'START_END': 1, 'CREATED_TS': '2021-11-26T13:20:00', 'SCHEDULED_TS': '2021-11-26T09:19:00', 'STARTED_TS': None, 'COMPLETED_TS': None, 'EXPIRED_TS': '2021-11-26T13:19:00', 'UPLOADED_TS': None, 'TOTAL_RT': '<no-response>', 'RAND_PROB': '<no-response>', 'PLACE': '<no-response>', 'PLACE_RT': '<no-response>', 'OTHER': '<no-response>', 'OTHER_RT': '<no-response>', 'MOOD': '<no-response>', 'MOOD_RT': '<no-response>', 'STEPS': '<no-response>', 'STEPS_RT': '<no-response>'}}\n",
      "{'_id': ObjectId('62cc7d568e3d174ffc0fbb4e'), 'user_id': ObjectId('621e333567b776a240a0c217'), 'data': {'PARTICIPANT_ID': 's837363231', 'STUDY_ID': 'uk96OixJ-', 'STUDY_NAME': 'RAIS Consortium Experiment v2.0', 'STUDY_VERSION': 5, 'SURVEY_ID': 'BjTcu3Lg-', 'SURVEY_NAME': 'Context and Mood Survey', 'TRIGGER': 'scheduled', 'START_END': 1, 'CREATED_TS': '2021-12-08T01:00:00', 'SCHEDULED_TS': '2021-12-07T20:58:00', 'STARTED_TS': None, 'COMPLETED_TS': None, 'EXPIRED_TS': '2021-12-08T00:58:00', 'UPLOADED_TS': None, 'TOTAL_RT': '<no-response>', 'RAND_PROB': '<no-response>', 'PLACE': '<no-response>', 'PLACE_RT': '<no-response>', 'OTHER': '<no-response>', 'OTHER_RT': '<no-response>', 'MOOD': '<no-response>', 'MOOD_RT': '<no-response>', 'STEPS': '<no-response>', 'STEPS_RT': '<no-response>'}}\n",
      "{'_id': ObjectId('62cc7d568e3d174ffc0fbb52'), 'user_id': ObjectId('621e32e667b776a2406d2f1c'), 'data': {'PARTICIPANT_ID': 's483359175', 'STUDY_ID': 'uk96OixJ-', 'STUDY_NAME': 'RAIS Consortium Experiment v2.0', 'STUDY_VERSION': 5, 'SURVEY_ID': 'BjTcu3Lg-', 'SURVEY_NAME': 'Context and Mood Survey', 'TRIGGER': 'scheduled', 'START_END': 1, 'CREATED_TS': '2021-12-20T19:45:00', 'SCHEDULED_TS': '2021-12-20T15:45:00', 'STARTED_TS': None, 'COMPLETED_TS': None, 'EXPIRED_TS': '2021-12-20T19:45:00', 'UPLOADED_TS': None, 'TOTAL_RT': '<no-response>', 'RAND_PROB': '<no-response>', 'PLACE': '<no-response>', 'PLACE_RT': '<no-response>', 'OTHER': '<no-response>', 'OTHER_RT': '<no-response>', 'MOOD': '<no-response>', 'MOOD_RT': '<no-response>', 'STEPS': '<no-response>', 'STEPS_RT': '<no-response>'}}\n",
      "{'_id': ObjectId('62cc7d568e3d174ffc0fbb54'), 'user_id': ObjectId('621e310d67b776a24003096d'), 'data': {'PARTICIPANT_ID': 's934096742', 'STUDY_ID': 'uk96OixJ-', 'STUDY_NAME': 'RAIS Consortium Experiment v2.0', 'STUDY_VERSION': 5, 'SURVEY_ID': 'BjTcu3Lg-', 'SURVEY_NAME': 'Context and Mood Survey', 'TRIGGER': 'scheduled', 'START_END': 1, 'CREATED_TS': '2021-12-19T20:30:00', 'SCHEDULED_TS': '2021-12-19T18:30:00', 'STARTED_TS': None, 'COMPLETED_TS': None, 'EXPIRED_TS': '2021-12-19T20:30:00', 'UPLOADED_TS': None, 'TOTAL_RT': '<no-response>', 'RAND_PROB': '<no-response>', 'PLACE': '<no-response>', 'PLACE_RT': '<no-response>', 'OTHER': '<no-response>', 'OTHER_RT': '<no-response>', 'MOOD': '<no-response>', 'MOOD_RT': '<no-response>', 'STEPS': '<no-response>', 'STEPS_RT': '<no-response>'}}\n",
      "{'_id': ObjectId('62cc7d568e3d174ffc0fbb58'), 'user_id': ObjectId('621e323667b776a240f19134'), 'data': {'PARTICIPANT_ID': 's587345871', 'STUDY_ID': 'uk96OixJ-', 'STUDY_NAME': 'RAIS Consortium Experiment v2.0', 'STUDY_VERSION': 5, 'SURVEY_ID': 'BjTcu3Lg-', 'SURVEY_NAME': 'Context and Mood Survey', 'TRIGGER': 'scheduled', 'START_END': 1, 'CREATED_TS': '2022-01-14T15:12:00', 'SCHEDULED_TS': '2022-01-14T15:12:00', 'STARTED_TS': '2022-01-14T15:12:00', 'COMPLETED_TS': '2022-01-14T15:12:00', 'EXPIRED_TS': None, 'UPLOADED_TS': '2022-01-14T15:12:00', 'TOTAL_RT': '3398', 'RAND_PROB': '<no-response>', 'PLACE': 'HOME', 'PLACE_RT': '1925', 'OTHER': '<not-shown>', 'OTHER_RT': '<not-shown>', 'MOOD': 'TIRED', 'MOOD_RT': '1473', 'STEPS': '<no-response>', 'STEPS_RT': '<no-response>'}}\n",
      "{'_id': ObjectId('62cc7d568e3d174ffc0fbb5a'), 'user_id': ObjectId('621e333967b776a240a3cd06'), 'data': {'PARTICIPANT_ID': 's094647501', 'STUDY_ID': 'uk96OixJ-', 'STUDY_NAME': 'RAIS Consortium Experiment v2.0', 'STUDY_VERSION': 5, 'SURVEY_ID': 'BjTcu3Lg-', 'SURVEY_NAME': 'Context and Mood Survey', 'TRIGGER': 'scheduled', 'START_END': 1, 'CREATED_TS': '2021-12-21T14:20:00', 'SCHEDULED_TS': '2021-12-21T10:20:00', 'STARTED_TS': None, 'COMPLETED_TS': None, 'EXPIRED_TS': '2021-12-21T14:20:00', 'UPLOADED_TS': None, 'TOTAL_RT': '<no-response>', 'RAND_PROB': '<no-response>', 'PLACE': '<no-response>', 'PLACE_RT': '<no-response>', 'OTHER': '<no-response>', 'OTHER_RT': '<no-response>', 'MOOD': '<no-response>', 'MOOD_RT': '<no-response>', 'STEPS': '<no-response>', 'STEPS_RT': '<no-response>'}}\n",
      "{'_id': ObjectId('62cc7d568e3d174ffc0fbb5b'), 'user_id': ObjectId('621e30f467b776a240f22944'), 'data': {'PARTICIPANT_ID': 's503629277', 'STUDY_ID': 'uk96OixJ-', 'STUDY_NAME': 'RAIS Consortium Experiment v2.0', 'STUDY_VERSION': 5, 'SURVEY_ID': 'BjTcu3Lg-', 'SURVEY_NAME': 'Context and Mood Survey', 'TRIGGER': 'scheduled', 'START_END': 1, 'CREATED_TS': '2021-12-03T21:08:00', 'SCHEDULED_TS': '2021-12-03T20:28:00', 'STARTED_TS': '2021-12-03T21:08:00', 'COMPLETED_TS': '2021-12-03T21:08:00', 'EXPIRED_TS': None, 'UPLOADED_TS': '2021-12-03T21:08:00', 'TOTAL_RT': '3519', 'RAND_PROB': '<no-response>', 'PLACE': 'HOME', 'PLACE_RT': '1640', 'OTHER': '<not-shown>', 'OTHER_RT': '<not-shown>', 'MOOD': 'RESTED/RELAXED', 'MOOD_RT': '1879', 'STEPS': '<no-response>', 'STEPS_RT': '<no-response>'}}\n"
     ]
    }
   ],
   "source": [
    "\n",
    "# test query\n",
    "from bson import ObjectId\n",
    "\n",
    "query = {\n",
    "    \"data.SURVEY_NAME\": \"Context and Mood Survey\"\n",
    "}\n",
    "docs = collection.find(query).limit(10)\n",
    "for doc in docs:\n",
    "    print(doc)"
   ]
  },
  {
   "cell_type": "code",
   "execution_count": null,
   "id": "f7a86810",
   "metadata": {},
   "outputs": [
    {
     "name": "stdout",
     "output_type": "stream",
     "text": [
      "Data has been saved to survey_result.csv\n"
     ]
    }
   ],
   "source": [
    "query = {\n",
    "    \"data.SURVEY_NAME\": \"Context and Mood Survey\"\n",
    "}\n",
    "\n",
    "data = list(collection.find(query))\n",
    "\n",
    "df_sleep = pd.DataFrame(data)\n",
    "\n",
    "csv = \"survey_result\"\n",
    "\n",
    "df_sleep.to_csv(f\"{csv}.csv\", index=False)\n",
    "\n",
    "print(f\"Data has been saved to {csv}.csv\")"
   ]
  },
  {
   "cell_type": "markdown",
   "id": "51ba61eb",
   "metadata": {},
   "source": [
    "## Transform data from mood csv into usable format\n",
    "- make columns from the fields within data\n",
    "\n",
    "Mood survey word 3 keer per dag afgenomen. "
   ]
  },
  {
   "cell_type": "code",
   "execution_count": null,
   "id": "6fe99ff3",
   "metadata": {},
   "outputs": [],
   "source": [
    "csv = \"survey_result\"\n",
    "\n",
    "df_sleep = pd.read_csv(f\"{csv}.csv\")\n",
    "\n",
    "df_sleep['data'] = df_sleep['data'].apply(eval)\n",
    "df_expanded = pd.concat(\n",
    "    [df_sleep.drop(columns=['data']), df_sleep['data'].apply(pd.Series)],\n",
    "    axis=1\n",
    ")\n",
    "df_expanded = df_expanded.drop(columns=['_id'], errors='ignore')\n",
    "\n",
    "df_expanded.to_csv(f\"{csv}_expanded.csv\", index=False)\n"
   ]
  },
  {
   "cell_type": "markdown",
   "id": "d8c9e884",
   "metadata": {},
   "source": [
    "- remove useless columns into new dataframe\n",
    "\n",
    "“SCHEDULED_TS” (i.e., the timestamp from when the survey was scheduled, e.g., when the participant received the notification) <sup>1</sup>\n",
    "\n",
    "<sup>1</sup>https://www.nature.com/articles/s41597-022-01764-x#Sec20\n",
    "\n"
   ]
  },
  {
   "cell_type": "code",
   "execution_count": 12,
   "id": "e2abaf6c",
   "metadata": {},
   "outputs": [
    {
     "data": {
      "text/html": [
       "<div>\n",
       "<style scoped>\n",
       "    .dataframe tbody tr th:only-of-type {\n",
       "        vertical-align: middle;\n",
       "    }\n",
       "\n",
       "    .dataframe tbody tr th {\n",
       "        vertical-align: top;\n",
       "    }\n",
       "\n",
       "    .dataframe thead th {\n",
       "        text-align: right;\n",
       "    }\n",
       "</style>\n",
       "<table border=\"1\" class=\"dataframe\">\n",
       "  <thead>\n",
       "    <tr style=\"text-align: right;\">\n",
       "      <th></th>\n",
       "      <th>id</th>\n",
       "      <th>date</th>\n",
       "      <th>mood</th>\n",
       "    </tr>\n",
       "  </thead>\n",
       "  <tbody>\n",
       "    <tr>\n",
       "      <th>0</th>\n",
       "      <td>621e2e8e67b776a24055b564</td>\n",
       "      <td>2021-05-25</td>\n",
       "      <td>0</td>\n",
       "    </tr>\n",
       "    <tr>\n",
       "      <th>1</th>\n",
       "      <td>621e2e8e67b776a24055b564</td>\n",
       "      <td>2021-05-26</td>\n",
       "      <td>1</td>\n",
       "    </tr>\n",
       "    <tr>\n",
       "      <th>2</th>\n",
       "      <td>621e2e8e67b776a24055b564</td>\n",
       "      <td>2021-05-27</td>\n",
       "      <td>3</td>\n",
       "    </tr>\n",
       "    <tr>\n",
       "      <th>3</th>\n",
       "      <td>621e2e8e67b776a24055b564</td>\n",
       "      <td>2021-05-28</td>\n",
       "      <td>1</td>\n",
       "    </tr>\n",
       "    <tr>\n",
       "      <th>4</th>\n",
       "      <td>621e2e8e67b776a24055b564</td>\n",
       "      <td>2021-05-29</td>\n",
       "      <td>2</td>\n",
       "    </tr>\n",
       "  </tbody>\n",
       "</table>\n",
       "</div>"
      ],
      "text/plain": [
       "                         id        date  mood\n",
       "0  621e2e8e67b776a24055b564  2021-05-25     0\n",
       "1  621e2e8e67b776a24055b564  2021-05-26     1\n",
       "2  621e2e8e67b776a24055b564  2021-05-27     3\n",
       "3  621e2e8e67b776a24055b564  2021-05-28     1\n",
       "4  621e2e8e67b776a24055b564  2021-05-29     2"
      ]
     },
     "execution_count": 12,
     "metadata": {},
     "output_type": "execute_result"
    }
   ],
   "source": [
    "df_survey = pd.read_csv('survey_result_expanded.csv')\n",
    "\n",
    "df_survey_clean = df_survey[[\n",
    "    'user_id', 'SCHEDULED_TS', 'MOOD'\n",
    "    ]]\n",
    "\n",
    "df_survey_clean = df_survey_clean.replace('<no-response>', np.NaN)\n",
    "\n",
    "df_survey_clean = df_survey_clean.dropna()\n",
    "\n",
    "\n",
    "df_survey_clean['SCHEDULED_TS'] = pd.to_datetime(df_survey_clean['SCHEDULED_TS']).dt.date\n",
    "\n",
    "# print(df_survey_clean['MOOD'].unique())\n",
    "\n",
    "moods = {\n",
    "        'TENSE/ANXIOUS': -1, 'TIRED': -1, 'RESTED/RELAXED': 1, 'NEUTRAL': 0, \n",
    "        'HAPPY': 1, 'ALERT': -1, 'SAD': -1, 'SURPRISE': 0, 'FEAR': -1, \n",
    "        'ANGER': -1, 'SADNESS': -1, 'JOY': 1\n",
    "        }\n",
    "\n",
    "df_survey_clean['MOOD'] = df_survey_clean['MOOD'].map(moods)\n",
    "\n",
    "df_survey_clean = df_survey_clean.groupby(['user_id', 'SCHEDULED_TS'], as_index=False)['MOOD'].sum()\n",
    "\n",
    "df_survey_clean.rename(columns={'user_id': 'id', 'SCHEDULED_TS': 'date', 'MOOD': 'mood'}, inplace=True)\n",
    "\n",
    "df_survey_clean.head()\n",
    "\n",
    "# df_survey_clean.to_csv('tst.csv', index=False)"
   ]
  },
  {
   "cell_type": "markdown",
   "id": "b2cc8e45",
   "metadata": {},
   "source": [
    "Transformeer alle cleaned dataframes in 1 dataframe\n"
   ]
  },
  {
   "cell_type": "code",
   "execution_count": null,
   "id": "5ea79381",
   "metadata": {},
   "outputs": [],
   "source": [
    "# very active minutes\n",
    "df_vam = pd.read_csv('very_active_minutes_expanded.csv')\n",
    "\n",
    "df_vam = df_vam.drop(columns=['type'])\n",
    "df_vam['dateTime'] = pd.to_datetime(df_vam['dateTime'], format='%m/%d/%y %H:%M:%S').dt.date\n",
    "df_vam = df_vam.rename(columns={'dateTime': 'date', 'value': 'very_active_minutes'})\n",
    "\n",
    "\n",
    "#sleep expanded\n",
    "df_sleep = pd.read_csv('sleep_expanded.csv')\n",
    "\n",
    "def extract_stage_minutes(levels_str, stage):\n",
    "    try:\n",
    "        levels_str = levels_str.replace('null', 'None')\n",
    "        levels_dict = ast.literal_eval(levels_str)\n",
    "        return levels_dict['summary'][stage]['minutes']\n",
    "    except Exception:\n",
    "        return None\n",
    "\n",
    "sleep_minutes = pd.DataFrame({\n",
    "    'id': df_sleep['id'],\n",
    "    'date': df_sleep['dateOfSleep'],\n",
    "    'sleep_deep_minutes': df_sleep['levels'].apply(lambda x: extract_stage_minutes(x, 'deep')),\n",
    "    'sleep_wake_minutes': df_sleep['levels'].apply(lambda x: extract_stage_minutes(x, 'wake')),\n",
    "    'sleep_light_minutes': df_sleep['levels'].apply(lambda x: extract_stage_minutes(x, 'light')),\n",
    "    'sleep_rem_minutes': df_sleep['levels'].apply(lambda x: extract_stage_minutes(x, 'rem')),\n",
    "})\n",
    "\n",
    "# steps\n",
    "df_steps = pd.read_csv('steps_expanded.csv')\n",
    "\n",
    "df_steps = df_steps.drop(columns=['type'])\n",
    "df_steps['dateTime'] = pd.to_datetime(df_steps['dateTime']).dt.date\n",
    "df_steps = df_steps.rename(columns={'dateTime': 'date', 'value': 'total_steps'})\n",
    "df_steps = df_steps.groupby(['id', 'date'], as_index=False)['total_steps'].sum()\n",
    "\n",
    "#df resting heart rate\n",
    "df_resting_heart_rate = pd.read_csv('resting_heart_rate_expanded.csv')\n",
    "\n",
    "df_resting_heart_rate = df_resting_heart_rate.drop(columns=['type', 'dateTime'])\n",
    "df_resting_heart_rate = df_resting_heart_rate.rename(columns={'value': 'resting_heart_rate'})\n",
    "\n",
    "\n",
    "# df daily hr variability summ\n",
    "df_daily_heart_rate_variability_summary = pd.read_csv('daily_hrv_summary_expanded.csv')\n",
    "\n",
    "df_daily_heart_rate_variability_summary['dateTime'] = pd.to_datetime(df_daily_heart_rate_variability_summary['timestamp']).dt.date\n",
    "df_daily_heart_rate_variability_summary = df_daily_heart_rate_variability_summary.drop(columns=['type', 'timestamp'])\n",
    "df_daily_heart_rate_variability_summary = df_daily_heart_rate_variability_summary.rename(columns={'dateTime': 'date'})\n",
    "\n",
    "# profile\n",
    "df_profile = pd.read_csv('profile_expanded.csv')\n",
    "\n",
    "df_profile = df_profile.drop(columns=['type', 'child', 'time_display_format', 'weight_unit', 'height_unit', 'distance_unit', 'water_unit', 'glucose_unit', 'swim_unit'])\n",
    "\n",
    "# lightly active minutes\n",
    "df_lightly_active_minutes = pd.read_csv('lightly_active_minutes_expanded.csv')\n",
    "\n",
    "df_lightly_active_minutes = df_lightly_active_minutes.drop(columns=['type'])\n",
    "df_lightly_active_minutes['dateTime'] = pd.to_datetime(df_lightly_active_minutes['dateTime'], format='%m/%d/%y %H:%M:%S').dt.date\n",
    "df_lightly_active_minutes = df_lightly_active_minutes.rename(columns={'dateTime': 'date', 'value': 'total_lightly_active_minutes'})\n",
    "df_lightly_active_minutes = df_lightly_active_minutes.groupby(['id', 'date'], as_index=False)['total_lightly_active_minutes'].sum()\n",
    "\n",
    "#moderatly active minutes\n",
    "df_moderalty_active_minutes = pd.read_csv('moderately_active_minutes_expanded.csv')\n",
    "\n",
    "df_moderalty_active_minutes = df_moderalty_active_minutes.drop(columns=['type'])\n",
    "df_moderalty_active_minutes['dateTime'] = pd.to_datetime(df_moderalty_active_minutes['dateTime'], format='%m/%d/%y %H:%M:%S').dt.date\n",
    "df_moderalty_active_minutes = df_moderalty_active_minutes.rename(columns={'dateTime': 'date', 'value': 'total_moderately_active_minutes'})\n",
    "df_moderalty_active_minutes = df_moderalty_active_minutes.groupby(['id', 'date'], as_index=False)['total_moderately_active_minutes'].sum()\n",
    "\n",
    "#sedentary minutes\n",
    "df_sedentary_minutes = pd.read_csv('sedentary_minutes_expanded.csv')\n",
    "\n",
    "df_sedentary_minutes = df_sedentary_minutes.drop(columns=['type'])\n",
    "df_sedentary_minutes['dateTime'] = pd.to_datetime(df_sedentary_minutes['dateTime'], format='%m/%d/%y %H:%M:%S').dt.date\n",
    "df_sedentary_minutes = df_sedentary_minutes.rename(columns={'dateTime': 'date', 'value': 'total_sedentary_minutes'})\n",
    "df_sedentary_minutes = df_sedentary_minutes.groupby(['id', 'date'], as_index=False)['total_sedentary_minutes'].sum()\n",
    "\n",
    "#"
   ]
  }
 ],
 "metadata": {
  "kernelspec": {
   "display_name": "Python 3",
   "language": "python",
   "name": "python3"
  },
  "language_info": {
   "codemirror_mode": {
    "name": "ipython",
    "version": 3
   },
   "file_extension": ".py",
   "mimetype": "text/x-python",
   "name": "python",
   "nbconvert_exporter": "python",
   "pygments_lexer": "ipython3",
   "version": "3.12.2"
  }
 },
 "nbformat": 4,
 "nbformat_minor": 5
}
