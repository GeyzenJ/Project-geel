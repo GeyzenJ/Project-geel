{
 "cells": [
  {
   "cell_type": "code",
   "execution_count": 11,
   "id": "cbbd2074",
   "metadata": {},
   "outputs": [],
   "source": [
    "import pandas as pd"
   ]
  },
  {
   "cell_type": "markdown",
   "id": "e90f2f35",
   "metadata": {},
   "source": [
    "### Steps"
   ]
  },
  {
   "cell_type": "code",
   "execution_count": 14,
   "id": "8dd28c82",
   "metadata": {},
   "outputs": [
    {
     "data": {
      "text/html": [
       "<div>\n",
       "<style scoped>\n",
       "    .dataframe tbody tr th:only-of-type {\n",
       "        vertical-align: middle;\n",
       "    }\n",
       "\n",
       "    .dataframe tbody tr th {\n",
       "        vertical-align: top;\n",
       "    }\n",
       "\n",
       "    .dataframe thead th {\n",
       "        text-align: right;\n",
       "    }\n",
       "</style>\n",
       "<table border=\"1\" class=\"dataframe\">\n",
       "  <thead>\n",
       "    <tr style=\"text-align: right;\">\n",
       "      <th></th>\n",
       "      <th>id</th>\n",
       "      <th>date</th>\n",
       "      <th>total_steps</th>\n",
       "    </tr>\n",
       "  </thead>\n",
       "  <tbody>\n",
       "    <tr>\n",
       "      <th>0</th>\n",
       "      <td>621e2e8e67b776a24055b564</td>\n",
       "      <td>2021-05-24</td>\n",
       "      <td>8833</td>\n",
       "    </tr>\n",
       "    <tr>\n",
       "      <th>1</th>\n",
       "      <td>621e2e8e67b776a24055b564</td>\n",
       "      <td>2021-05-25</td>\n",
       "      <td>9727</td>\n",
       "    </tr>\n",
       "    <tr>\n",
       "      <th>2</th>\n",
       "      <td>621e2e8e67b776a24055b564</td>\n",
       "      <td>2021-05-26</td>\n",
       "      <td>8253</td>\n",
       "    </tr>\n",
       "    <tr>\n",
       "      <th>3</th>\n",
       "      <td>621e2e8e67b776a24055b564</td>\n",
       "      <td>2021-05-27</td>\n",
       "      <td>9015</td>\n",
       "    </tr>\n",
       "    <tr>\n",
       "      <th>4</th>\n",
       "      <td>621e2e8e67b776a24055b564</td>\n",
       "      <td>2021-05-28</td>\n",
       "      <td>12949</td>\n",
       "    </tr>\n",
       "  </tbody>\n",
       "</table>\n",
       "</div>"
      ],
      "text/plain": [
       "                         id        date  total_steps\n",
       "0  621e2e8e67b776a24055b564  2021-05-24         8833\n",
       "1  621e2e8e67b776a24055b564  2021-05-25         9727\n",
       "2  621e2e8e67b776a24055b564  2021-05-26         8253\n",
       "3  621e2e8e67b776a24055b564  2021-05-27         9015\n",
       "4  621e2e8e67b776a24055b564  2021-05-28        12949"
      ]
     },
     "execution_count": 14,
     "metadata": {},
     "output_type": "execute_result"
    }
   ],
   "source": [
    "df = pd.read_csv('steps_expanded.csv')\n",
    "\n",
    "df = df.drop(columns=['type'])\n",
    "df['dateTime'] = pd.to_datetime(df['dateTime']).dt.date\n",
    "df = df.rename(columns={'dateTime': 'date', 'value': 'total_steps'})\n",
    "df = df.groupby(['id', 'date'], as_index=False)['total_steps'].sum()\n",
    "df.head()"
   ]
  },
  {
   "cell_type": "markdown",
   "id": "b5ee0876",
   "metadata": {},
   "source": [
    "### Resting Heart Rate"
   ]
  },
  {
   "cell_type": "code",
   "execution_count": null,
   "id": "c2474b24",
   "metadata": {},
   "outputs": [
    {
     "data": {
      "text/html": [
       "<div>\n",
       "<style scoped>\n",
       "    .dataframe tbody tr th:only-of-type {\n",
       "        vertical-align: middle;\n",
       "    }\n",
       "\n",
       "    .dataframe tbody tr th {\n",
       "        vertical-align: top;\n",
       "    }\n",
       "\n",
       "    .dataframe thead th {\n",
       "        text-align: right;\n",
       "    }\n",
       "</style>\n",
       "<table border=\"1\" class=\"dataframe\">\n",
       "  <thead>\n",
       "    <tr style=\"text-align: right;\">\n",
       "      <th></th>\n",
       "      <th>id</th>\n",
       "      <th>date</th>\n",
       "      <th>resting_heart_rate</th>\n",
       "      <th>error</th>\n",
       "    </tr>\n",
       "  </thead>\n",
       "  <tbody>\n",
       "    <tr>\n",
       "      <th>0</th>\n",
       "      <td>621e2e8e67b776a24055b564</td>\n",
       "      <td>06/07/21</td>\n",
       "      <td>59.557202</td>\n",
       "      <td>6.787087</td>\n",
       "    </tr>\n",
       "    <tr>\n",
       "      <th>1</th>\n",
       "      <td>621e2e8e67b776a24055b564</td>\n",
       "      <td>06/19/21</td>\n",
       "      <td>59.549614</td>\n",
       "      <td>6.880783</td>\n",
       "    </tr>\n",
       "    <tr>\n",
       "      <th>2</th>\n",
       "      <td>621e2e8e67b776a24055b564</td>\n",
       "      <td>07/01/21</td>\n",
       "      <td>57.763995</td>\n",
       "      <td>6.787087</td>\n",
       "    </tr>\n",
       "    <tr>\n",
       "      <th>3</th>\n",
       "      <td>621e2e8e67b776a24055b564</td>\n",
       "      <td>07/13/21</td>\n",
       "      <td>57.361768</td>\n",
       "      <td>6.787273</td>\n",
       "    </tr>\n",
       "    <tr>\n",
       "      <th>4</th>\n",
       "      <td>621e2e8e67b776a24055b564</td>\n",
       "      <td>07/25/21</td>\n",
       "      <td>60.995687</td>\n",
       "      <td>6.787087</td>\n",
       "    </tr>\n",
       "  </tbody>\n",
       "</table>\n",
       "</div>"
      ],
      "text/plain": [
       "                         id      date  resting_heart_rate     error\n",
       "0  621e2e8e67b776a24055b564  06/07/21           59.557202  6.787087\n",
       "1  621e2e8e67b776a24055b564  06/19/21           59.549614  6.880783\n",
       "2  621e2e8e67b776a24055b564  07/01/21           57.763995  6.787087\n",
       "3  621e2e8e67b776a24055b564  07/13/21           57.361768  6.787273\n",
       "4  621e2e8e67b776a24055b564  07/25/21           60.995687  6.787087"
      ]
     },
     "execution_count": 7,
     "metadata": {},
     "output_type": "execute_result"
    }
   ],
   "source": [
    "df = pd.read_csv('resting_heart_rate_expanded.csv')\n",
    "\n",
    "df = df.drop(columns=['type', 'dateTime'])\n",
    "df = df.rename(columns={'value': 'resting_heart_rate'})\n",
    "df.head()"
   ]
  },
  {
   "cell_type": "markdown",
   "id": "6af98e3c",
   "metadata": {},
   "source": [
    "### Daily Heart Rate Variability Summary"
   ]
  },
  {
   "cell_type": "code",
   "execution_count": null,
   "id": "35901c94",
   "metadata": {},
   "outputs": [
    {
     "data": {
      "text/html": [
       "<div>\n",
       "<style scoped>\n",
       "    .dataframe tbody tr th:only-of-type {\n",
       "        vertical-align: middle;\n",
       "    }\n",
       "\n",
       "    .dataframe tbody tr th {\n",
       "        vertical-align: top;\n",
       "    }\n",
       "\n",
       "    .dataframe thead th {\n",
       "        text-align: right;\n",
       "    }\n",
       "</style>\n",
       "<table border=\"1\" class=\"dataframe\">\n",
       "  <thead>\n",
       "    <tr style=\"text-align: right;\">\n",
       "      <th></th>\n",
       "      <th>id</th>\n",
       "      <th>rmssd</th>\n",
       "      <th>nremhr</th>\n",
       "      <th>entropy</th>\n",
       "      <th>date</th>\n",
       "    </tr>\n",
       "  </thead>\n",
       "  <tbody>\n",
       "    <tr>\n",
       "      <th>0</th>\n",
       "      <td>621e2e8e67b776a24055b564</td>\n",
       "      <td>89.941</td>\n",
       "      <td>57.314</td>\n",
       "      <td>3.143</td>\n",
       "      <td>2021-05-29</td>\n",
       "    </tr>\n",
       "    <tr>\n",
       "      <th>1</th>\n",
       "      <td>621e2e8e67b776a24055b564</td>\n",
       "      <td>122.089</td>\n",
       "      <td>53.976</td>\n",
       "      <td>3.370</td>\n",
       "      <td>2021-06-07</td>\n",
       "    </tr>\n",
       "    <tr>\n",
       "      <th>2</th>\n",
       "      <td>621e2e8e67b776a24055b564</td>\n",
       "      <td>113.970</td>\n",
       "      <td>53.006</td>\n",
       "      <td>3.226</td>\n",
       "      <td>2021-06-22</td>\n",
       "    </tr>\n",
       "    <tr>\n",
       "      <th>3</th>\n",
       "      <td>621e2e8e67b776a24055b564</td>\n",
       "      <td>104.583</td>\n",
       "      <td>55.044</td>\n",
       "      <td>3.353</td>\n",
       "      <td>2021-07-01</td>\n",
       "    </tr>\n",
       "    <tr>\n",
       "      <th>4</th>\n",
       "      <td>621e2e8e67b776a24055b564</td>\n",
       "      <td>97.882</td>\n",
       "      <td>56.134</td>\n",
       "      <td>3.522</td>\n",
       "      <td>2021-07-11</td>\n",
       "    </tr>\n",
       "  </tbody>\n",
       "</table>\n",
       "</div>"
      ],
      "text/plain": [
       "                         id    rmssd  nremhr  entropy        date\n",
       "0  621e2e8e67b776a24055b564   89.941  57.314    3.143  2021-05-29\n",
       "1  621e2e8e67b776a24055b564  122.089  53.976    3.370  2021-06-07\n",
       "2  621e2e8e67b776a24055b564  113.970  53.006    3.226  2021-06-22\n",
       "3  621e2e8e67b776a24055b564  104.583  55.044    3.353  2021-07-01\n",
       "4  621e2e8e67b776a24055b564   97.882  56.134    3.522  2021-07-11"
      ]
     },
     "execution_count": 14,
     "metadata": {},
     "output_type": "execute_result"
    }
   ],
   "source": [
    "df = pd.read_csv('daily_hrv_summary_expanded.csv')\n",
    "\n",
    "df['dateTime'] = pd.to_datetime(df['timestamp']).dt.date\n",
    "df = df.drop(columns=['type', 'timestamp'])\n",
    "df = df.rename(columns={'dateTime': 'date'})\n",
    "df.head()\n"
   ]
  }
 ],
 "metadata": {
  "kernelspec": {
   "display_name": "Python 3",
   "language": "python",
   "name": "python3"
  },
  "language_info": {
   "codemirror_mode": {
    "name": "ipython",
    "version": 3
   },
   "file_extension": ".py",
   "mimetype": "text/x-python",
   "name": "python",
   "nbconvert_exporter": "python",
   "pygments_lexer": "ipython3",
   "version": "3.12.8"
  }
 },
 "nbformat": 4,
 "nbformat_minor": 5
}
