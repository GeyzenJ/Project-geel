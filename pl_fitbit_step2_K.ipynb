{
 "cells": [
  {
   "cell_type": "markdown",
   "id": "38f215f6",
   "metadata": {},
   "source": [
    "### Necessary libraries"
   ]
  },
  {
   "cell_type": "code",
   "execution_count": 3,
   "id": "a3395c6c",
   "metadata": {},
   "outputs": [],
   "source": [
    "from bson import ObjectId\n",
    "from pprint import pprint\n",
    "import pandas as pd"
   ]
  },
  {
   "cell_type": "markdown",
   "id": "fde7846e",
   "metadata": {},
   "source": [
    "#### very active minutes cleaned"
   ]
  },
  {
   "cell_type": "code",
   "execution_count": null,
   "id": "debebfd7",
   "metadata": {},
   "outputs": [
    {
     "data": {
      "text/html": [
       "<div>\n",
       "<style scoped>\n",
       "    .dataframe tbody tr th:only-of-type {\n",
       "        vertical-align: middle;\n",
       "    }\n",
       "\n",
       "    .dataframe tbody tr th {\n",
       "        vertical-align: top;\n",
       "    }\n",
       "\n",
       "    .dataframe thead th {\n",
       "        text-align: right;\n",
       "    }\n",
       "</style>\n",
       "<table border=\"1\" class=\"dataframe\">\n",
       "  <thead>\n",
       "    <tr style=\"text-align: right;\">\n",
       "      <th></th>\n",
       "      <th>id</th>\n",
       "      <th>date</th>\n",
       "      <th>very_active_minutes</th>\n",
       "    </tr>\n",
       "  </thead>\n",
       "  <tbody>\n",
       "    <tr>\n",
       "      <th>0</th>\n",
       "      <td>621e2e8e67b776a24055b564</td>\n",
       "      <td>2021-05-26</td>\n",
       "      <td>31</td>\n",
       "    </tr>\n",
       "    <tr>\n",
       "      <th>1</th>\n",
       "      <td>621e2e8e67b776a24055b564</td>\n",
       "      <td>2021-06-11</td>\n",
       "      <td>45</td>\n",
       "    </tr>\n",
       "    <tr>\n",
       "      <th>2</th>\n",
       "      <td>621e2e8e67b776a24055b564</td>\n",
       "      <td>2021-06-27</td>\n",
       "      <td>20</td>\n",
       "    </tr>\n",
       "    <tr>\n",
       "      <th>3</th>\n",
       "      <td>621e2e8e67b776a24055b564</td>\n",
       "      <td>2021-07-13</td>\n",
       "      <td>33</td>\n",
       "    </tr>\n",
       "    <tr>\n",
       "      <th>4</th>\n",
       "      <td>621e2e8e67b776a24055b564</td>\n",
       "      <td>2021-07-29</td>\n",
       "      <td>65</td>\n",
       "    </tr>\n",
       "  </tbody>\n",
       "</table>\n",
       "</div>"
      ],
      "text/plain": [
       "                         id        date  very_active_minutes\n",
       "0  621e2e8e67b776a24055b564  2021-05-26                   31\n",
       "1  621e2e8e67b776a24055b564  2021-06-11                   45\n",
       "2  621e2e8e67b776a24055b564  2021-06-27                   20\n",
       "3  621e2e8e67b776a24055b564  2021-07-13                   33\n",
       "4  621e2e8e67b776a24055b564  2021-07-29                   65"
      ]
     },
     "execution_count": 5,
     "metadata": {},
     "output_type": "execute_result"
    }
   ],
   "source": [
    "df_vam = pd.read_csv('very_active_minutes_expanded.csv')\n",
    "\n",
    "df_vam = df_vam.drop(columns=['type'])\n",
    "df_vam['dateTime'] = pd.to_datetime(df_vam['dateTime'], format='%m/%d/%y %H:%M:%S').dt.date\n",
    "df_vam = df_vam.rename(columns={'dateTime': 'date', 'value': 'very_active_minutes'})\n",
    "df_vam.head()"
   ]
  },
  {
   "cell_type": "markdown",
   "id": "0b22a6d3",
   "metadata": {},
   "source": [
    "#### sleep cleaned"
   ]
  },
  {
   "cell_type": "code",
   "execution_count": 9,
   "id": "254a29ff",
   "metadata": {},
   "outputs": [
    {
     "data": {
      "text/html": [
       "<div>\n",
       "<style scoped>\n",
       "    .dataframe tbody tr th:only-of-type {\n",
       "        vertical-align: middle;\n",
       "    }\n",
       "\n",
       "    .dataframe tbody tr th {\n",
       "        vertical-align: top;\n",
       "    }\n",
       "\n",
       "    .dataframe thead th {\n",
       "        text-align: right;\n",
       "    }\n",
       "</style>\n",
       "<table border=\"1\" class=\"dataframe\">\n",
       "  <thead>\n",
       "    <tr style=\"text-align: right;\">\n",
       "      <th></th>\n",
       "      <th>id</th>\n",
       "      <th>date</th>\n",
       "      <th>duration</th>\n",
       "      <th>minutesToFallAsleep</th>\n",
       "      <th>minutesAsleep</th>\n",
       "      <th>minutesAwake</th>\n",
       "      <th>minutesAfterWakeup</th>\n",
       "      <th>timeInBed</th>\n",
       "      <th>efficiency</th>\n",
       "    </tr>\n",
       "  </thead>\n",
       "  <tbody>\n",
       "    <tr>\n",
       "      <th>0</th>\n",
       "      <td>621e2e8e67b776a24055b564</td>\n",
       "      <td>2021-05-24</td>\n",
       "      <td>31260000.0</td>\n",
       "      <td>0.0</td>\n",
       "      <td>445.0</td>\n",
       "      <td>76.0</td>\n",
       "      <td>0.0</td>\n",
       "      <td>521.0</td>\n",
       "      <td>93.0</td>\n",
       "    </tr>\n",
       "    <tr>\n",
       "      <th>1</th>\n",
       "      <td>621e2e8e67b776a24055b564</td>\n",
       "      <td>2021-05-25</td>\n",
       "      <td>32880000.0</td>\n",
       "      <td>0.0</td>\n",
       "      <td>460.0</td>\n",
       "      <td>88.0</td>\n",
       "      <td>0.0</td>\n",
       "      <td>548.0</td>\n",
       "      <td>94.0</td>\n",
       "    </tr>\n",
       "    <tr>\n",
       "      <th>2</th>\n",
       "      <td>621e2e8e67b776a24055b564</td>\n",
       "      <td>2021-05-26</td>\n",
       "      <td>33600000.0</td>\n",
       "      <td>0.0</td>\n",
       "      <td>493.0</td>\n",
       "      <td>67.0</td>\n",
       "      <td>0.0</td>\n",
       "      <td>560.0</td>\n",
       "      <td>96.0</td>\n",
       "    </tr>\n",
       "    <tr>\n",
       "      <th>3</th>\n",
       "      <td>621e2e8e67b776a24055b564</td>\n",
       "      <td>2021-05-27</td>\n",
       "      <td>37620000.0</td>\n",
       "      <td>0.0</td>\n",
       "      <td>540.0</td>\n",
       "      <td>87.0</td>\n",
       "      <td>0.0</td>\n",
       "      <td>627.0</td>\n",
       "      <td>93.0</td>\n",
       "    </tr>\n",
       "    <tr>\n",
       "      <th>4</th>\n",
       "      <td>621e2e8e67b776a24055b564</td>\n",
       "      <td>2021-05-28</td>\n",
       "      <td>33660000.0</td>\n",
       "      <td>0.0</td>\n",
       "      <td>493.0</td>\n",
       "      <td>68.0</td>\n",
       "      <td>0.0</td>\n",
       "      <td>561.0</td>\n",
       "      <td>94.0</td>\n",
       "    </tr>\n",
       "  </tbody>\n",
       "</table>\n",
       "</div>"
      ],
      "text/plain": [
       "                         id        date    duration  minutesToFallAsleep  \\\n",
       "0  621e2e8e67b776a24055b564  2021-05-24  31260000.0                  0.0   \n",
       "1  621e2e8e67b776a24055b564  2021-05-25  32880000.0                  0.0   \n",
       "2  621e2e8e67b776a24055b564  2021-05-26  33600000.0                  0.0   \n",
       "3  621e2e8e67b776a24055b564  2021-05-27  37620000.0                  0.0   \n",
       "4  621e2e8e67b776a24055b564  2021-05-28  33660000.0                  0.0   \n",
       "\n",
       "   minutesAsleep  minutesAwake  minutesAfterWakeup  timeInBed  efficiency  \n",
       "0          445.0          76.0                 0.0      521.0        93.0  \n",
       "1          460.0          88.0                 0.0      548.0        94.0  \n",
       "2          493.0          67.0                 0.0      560.0        96.0  \n",
       "3          540.0          87.0                 0.0      627.0        93.0  \n",
       "4          493.0          68.0                 0.0      561.0        94.0  "
      ]
     },
     "execution_count": 9,
     "metadata": {},
     "output_type": "execute_result"
    }
   ],
   "source": [
    "df_sleep = pd.read_csv('sleep_expanded.csv')\n",
    "\n",
    "df_sleep['date'] = pd.to_datetime(df_sleep['dateOfSleep']).dt.date\n",
    "df_sleep_clean = df_sleep[[\n",
    "    'id', 'date', 'duration', 'minutesToFallAsleep', 'minutesAsleep',\n",
    "    'minutesAwake', 'minutesAfterWakeup', 'timeInBed', 'efficiency'\n",
    "]]\n",
    "df_sleep_clean = df_sleep_clean.groupby(['id', 'date']).mean().reset_index()\n",
    "\n",
    "df_sleep_clean.head()"
   ]
  }
 ],
 "metadata": {
  "kernelspec": {
   "display_name": "Python 3",
   "language": "python",
   "name": "python3"
  },
  "language_info": {
   "codemirror_mode": {
    "name": "ipython",
    "version": 3
   },
   "file_extension": ".py",
   "mimetype": "text/x-python",
   "name": "python",
   "nbconvert_exporter": "python",
   "pygments_lexer": "ipython3",
   "version": "3.12.2"
  }
 },
 "nbformat": 4,
 "nbformat_minor": 5
}
