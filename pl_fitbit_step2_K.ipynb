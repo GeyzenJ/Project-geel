{
 "cells": [
  {
   "cell_type": "markdown",
   "id": "38f215f6",
   "metadata": {},
   "source": [
    "### Necessary libraries"
   ]
  },
  {
   "cell_type": "code",
   "execution_count": 2,
   "id": "a3395c6c",
   "metadata": {},
   "outputs": [],
   "source": [
    "from bson import ObjectId\n",
    "from pprint import pprint\n",
    "import pandas as pd\n",
    "import ast"
   ]
  },
  {
   "cell_type": "markdown",
   "id": "fde7846e",
   "metadata": {},
   "source": [
    "#### very active minutes cleaned"
   ]
  },
  {
   "cell_type": "code",
   "execution_count": 3,
   "id": "debebfd7",
   "metadata": {},
   "outputs": [
    {
     "data": {
      "text/html": [
       "<div>\n",
       "<style scoped>\n",
       "    .dataframe tbody tr th:only-of-type {\n",
       "        vertical-align: middle;\n",
       "    }\n",
       "\n",
       "    .dataframe tbody tr th {\n",
       "        vertical-align: top;\n",
       "    }\n",
       "\n",
       "    .dataframe thead th {\n",
       "        text-align: right;\n",
       "    }\n",
       "</style>\n",
       "<table border=\"1\" class=\"dataframe\">\n",
       "  <thead>\n",
       "    <tr style=\"text-align: right;\">\n",
       "      <th></th>\n",
       "      <th>id</th>\n",
       "      <th>date</th>\n",
       "      <th>very_active_minutes</th>\n",
       "    </tr>\n",
       "  </thead>\n",
       "  <tbody>\n",
       "    <tr>\n",
       "      <th>0</th>\n",
       "      <td>621e2e8e67b776a24055b564</td>\n",
       "      <td>2021-05-26</td>\n",
       "      <td>31</td>\n",
       "    </tr>\n",
       "    <tr>\n",
       "      <th>1</th>\n",
       "      <td>621e2e8e67b776a24055b564</td>\n",
       "      <td>2021-06-11</td>\n",
       "      <td>45</td>\n",
       "    </tr>\n",
       "    <tr>\n",
       "      <th>2</th>\n",
       "      <td>621e2e8e67b776a24055b564</td>\n",
       "      <td>2021-06-27</td>\n",
       "      <td>20</td>\n",
       "    </tr>\n",
       "    <tr>\n",
       "      <th>3</th>\n",
       "      <td>621e2e8e67b776a24055b564</td>\n",
       "      <td>2021-07-13</td>\n",
       "      <td>33</td>\n",
       "    </tr>\n",
       "    <tr>\n",
       "      <th>4</th>\n",
       "      <td>621e2e8e67b776a24055b564</td>\n",
       "      <td>2021-07-29</td>\n",
       "      <td>65</td>\n",
       "    </tr>\n",
       "  </tbody>\n",
       "</table>\n",
       "</div>"
      ],
      "text/plain": [
       "                         id        date  very_active_minutes\n",
       "0  621e2e8e67b776a24055b564  2021-05-26                   31\n",
       "1  621e2e8e67b776a24055b564  2021-06-11                   45\n",
       "2  621e2e8e67b776a24055b564  2021-06-27                   20\n",
       "3  621e2e8e67b776a24055b564  2021-07-13                   33\n",
       "4  621e2e8e67b776a24055b564  2021-07-29                   65"
      ]
     },
     "execution_count": 3,
     "metadata": {},
     "output_type": "execute_result"
    }
   ],
   "source": [
    "df_vam = pd.read_csv('very_active_minutes_expanded.csv')\n",
    "\n",
    "df_vam = df_vam.drop(columns=['type'])\n",
    "df_vam['dateTime'] = pd.to_datetime(df_vam['dateTime'], format='%m/%d/%y %H:%M:%S').dt.date\n",
    "df_vam = df_vam.rename(columns={'dateTime': 'date', 'value': 'very_active_minutes'})\n",
    "df_vam.head()"
   ]
  },
  {
   "cell_type": "markdown",
   "id": "0b22a6d3",
   "metadata": {},
   "source": [
    "#### sleep cleaned"
   ]
  },
  {
   "cell_type": "code",
   "execution_count": 5,
   "id": "254a29ff",
   "metadata": {},
   "outputs": [
    {
     "data": {
      "text/html": [
       "<div>\n",
       "<style scoped>\n",
       "    .dataframe tbody tr th:only-of-type {\n",
       "        vertical-align: middle;\n",
       "    }\n",
       "\n",
       "    .dataframe tbody tr th {\n",
       "        vertical-align: top;\n",
       "    }\n",
       "\n",
       "    .dataframe thead th {\n",
       "        text-align: right;\n",
       "    }\n",
       "</style>\n",
       "<table border=\"1\" class=\"dataframe\">\n",
       "  <thead>\n",
       "    <tr style=\"text-align: right;\">\n",
       "      <th></th>\n",
       "      <th>id</th>\n",
       "      <th>date</th>\n",
       "      <th>sleep_deep_minutes</th>\n",
       "      <th>sleep_wake_minutes</th>\n",
       "      <th>sleep_light_minutes</th>\n",
       "      <th>sleep_rem_minutes</th>\n",
       "    </tr>\n",
       "  </thead>\n",
       "  <tbody>\n",
       "    <tr>\n",
       "      <th>0</th>\n",
       "      <td>621e2e8e67b776a24055b564</td>\n",
       "      <td>2021-06-21</td>\n",
       "      <td>70.0</td>\n",
       "      <td>67.0</td>\n",
       "      <td>322.0</td>\n",
       "      <td>78.0</td>\n",
       "    </tr>\n",
       "    <tr>\n",
       "      <th>1</th>\n",
       "      <td>621e2e8e67b776a24055b564</td>\n",
       "      <td>2021-06-06</td>\n",
       "      <td>72.0</td>\n",
       "      <td>91.0</td>\n",
       "      <td>336.0</td>\n",
       "      <td>111.0</td>\n",
       "    </tr>\n",
       "    <tr>\n",
       "      <th>2</th>\n",
       "      <td>621e2e8e67b776a24055b564</td>\n",
       "      <td>2021-07-26</td>\n",
       "      <td>108.0</td>\n",
       "      <td>86.0</td>\n",
       "      <td>234.0</td>\n",
       "      <td>107.0</td>\n",
       "    </tr>\n",
       "    <tr>\n",
       "      <th>3</th>\n",
       "      <td>621e2e8e67b776a24055b564</td>\n",
       "      <td>2021-05-29</td>\n",
       "      <td>66.0</td>\n",
       "      <td>67.0</td>\n",
       "      <td>302.0</td>\n",
       "      <td>103.0</td>\n",
       "    </tr>\n",
       "    <tr>\n",
       "      <th>4</th>\n",
       "      <td>621e2e8e67b776a24055b564</td>\n",
       "      <td>2021-06-23</td>\n",
       "      <td>108.0</td>\n",
       "      <td>94.0</td>\n",
       "      <td>234.0</td>\n",
       "      <td>90.0</td>\n",
       "    </tr>\n",
       "  </tbody>\n",
       "</table>\n",
       "</div>"
      ],
      "text/plain": [
       "                         id        date  sleep_deep_minutes  \\\n",
       "0  621e2e8e67b776a24055b564  2021-06-21                70.0   \n",
       "1  621e2e8e67b776a24055b564  2021-06-06                72.0   \n",
       "2  621e2e8e67b776a24055b564  2021-07-26               108.0   \n",
       "3  621e2e8e67b776a24055b564  2021-05-29                66.0   \n",
       "4  621e2e8e67b776a24055b564  2021-06-23               108.0   \n",
       "\n",
       "   sleep_wake_minutes  sleep_light_minutes  sleep_rem_minutes  \n",
       "0                67.0                322.0               78.0  \n",
       "1                91.0                336.0              111.0  \n",
       "2                86.0                234.0              107.0  \n",
       "3                67.0                302.0              103.0  \n",
       "4                94.0                234.0               90.0  "
      ]
     },
     "execution_count": 5,
     "metadata": {},
     "output_type": "execute_result"
    }
   ],
   "source": [
    "df = pd.read_csv('sleep_expanded.csv')\n",
    "\n",
    "def extract_stage_minutes(levels_str, stage):\n",
    "    try:\n",
    "        levels_str = levels_str.replace('null', 'None')\n",
    "        levels_dict = ast.literal_eval(levels_str)\n",
    "        return levels_dict['summary'][stage]['minutes']\n",
    "    except Exception:\n",
    "        return None\n",
    "\n",
    "sleep_minutes = pd.DataFrame({\n",
    "    'id': df['id'],\n",
    "    'date': df['dateOfSleep'],\n",
    "    'sleep_deep_minutes': df['levels'].apply(lambda x: extract_stage_minutes(x, 'deep')),\n",
    "    'sleep_wake_minutes': df['levels'].apply(lambda x: extract_stage_minutes(x, 'wake')),\n",
    "    'sleep_light_minutes': df['levels'].apply(lambda x: extract_stage_minutes(x, 'light')),\n",
    "    'sleep_rem_minutes': df['levels'].apply(lambda x: extract_stage_minutes(x, 'rem')),\n",
    "})\n",
    "\n",
    "sleep_minutes.head()"
   ]
  }
 ],
 "metadata": {
  "kernelspec": {
   "display_name": "Python 3",
   "language": "python",
   "name": "python3"
  },
  "language_info": {
   "codemirror_mode": {
    "name": "ipython",
    "version": 3
   },
   "file_extension": ".py",
   "mimetype": "text/x-python",
   "name": "python",
   "nbconvert_exporter": "python",
   "pygments_lexer": "ipython3",
   "version": "3.12.2"
  }
 },
 "nbformat": 4,
 "nbformat_minor": 5
}
