{
 "cells": [
  {
   "cell_type": "code",
   "execution_count": 16,
   "id": "7e128736",
   "metadata": {},
   "outputs": [],
   "source": [
    "from pymongo import MongoClient\n",
    "from bson import ObjectId\n",
    "from pprint import pprint\n",
    "import pandas as pd\n",
    "\n",
    "client = MongoClient(\"mongodb://localhost:27017/\")\n",
    "\n",
    "db = client[\"lifesnaps\"]\n",
    "collection = db[\"fitbit\"]"
   ]
  },
  {
   "cell_type": "code",
   "execution_count": 17,
   "id": "ffd52acc",
   "metadata": {},
   "outputs": [],
   "source": [
    "# query = {\n",
    "#     \"type\": \"sedentary_minutes\"\n",
    "# }\n",
    "# dataSedentaryMinutes = list(collection.find(query))\n",
    "# df_sedentary_minutes = pd.DataFrame(dataSedentaryMinutes)\n",
    "# df_sedentary_minutes.to_csv(\"sedentary_minutes.csv\", index=False)\n",
    "# print(\"Data has been saved to sedentary_minutes.csv\")"
   ]
  },
  {
   "cell_type": "code",
   "execution_count": 18,
   "id": "88559400",
   "metadata": {},
   "outputs": [],
   "source": [
    "# query = {\n",
    "#     \"type\": \"resting_heart_rate\"\n",
    "# }\n",
    "# dataRestingHeartRate = list(collection.find(query))\n",
    "# df_resting_heart_rate = pd.DataFrame(dataRestingHeartRate)\n",
    "# df_resting_heart_rate.to_csv(\"resting_heart_rate.csv\", index=False)\n",
    "# print(\"Data has been saved to resting_heart_rate.csv\")"
   ]
  },
  {
   "cell_type": "code",
   "execution_count": 19,
   "id": "5ff994aa",
   "metadata": {},
   "outputs": [],
   "source": [
    "# query = {\n",
    "#     \"type\": \"Daily Heart Rate Variability Summary\"\n",
    "# }\n",
    "# dataDailyHeartRateVariabilitySummary = list(collection.find(query))\n",
    "# df_daily_hrv_summary = pd.DataFrame(dataDailyHeartRateVariabilitySummary)\n",
    "# df_daily_hrv_summary.to_csv(\"daily_hrv_summary.csv\", index=False)\n",
    "# print(\"Data has been saved to daily_hrv_summary.csv\")"
   ]
  },
  {
   "cell_type": "code",
   "execution_count": 20,
   "id": "1cb3f7ab",
   "metadata": {},
   "outputs": [],
   "source": [
    "# query = {\n",
    "#     \"type\": \"Profile\"\n",
    "# }\n",
    "# dataProfile = list(collection.find(query))\n",
    "# df_profile = pd.DataFrame(dataProfile)\n",
    "# df_profile.to_csv(\"profile.csv\", index=False)\n",
    "# print(\"Data has been saved to profile.csv\")"
   ]
  },
  {
   "cell_type": "code",
   "execution_count": 21,
   "id": "b0a55c50",
   "metadata": {},
   "outputs": [],
   "source": [
    "# df_profile = pd.read_csv(\"profile.csv\")\n",
    "\n",
    "# df_profile['data'] = df_profile['data'].apply(eval)\n",
    "# df_profile_expanded = pd.concat([df_profile.drop(columns=['data']), df_profile['data'].apply(pd.Series)], axis=1)\n",
    "# df_profile_expanded = df_profile_expanded.drop(columns=['_id'])\n",
    "\n",
    "# df_profile_expanded.to_csv(\"profile_expanded.csv\", index=False)"
   ]
  },
  {
   "cell_type": "code",
   "execution_count": 22,
   "id": "d8db2502",
   "metadata": {},
   "outputs": [],
   "source": [
    "# df_resting_heart_rate = pd.read_csv(\"resting_heart_rate.csv\")\n",
    "\n",
    "# df_resting_heart_rate['data'] = df_resting_heart_rate['data'].apply(eval)\n",
    "# df_resting_heart_rate_expanded = pd.concat([df_resting_heart_rate.drop(columns=['data']), df_resting_heart_rate['data'].apply(pd.Series)], axis=1)\n",
    "# df_resting_heart_rate_expanded = pd.concat([df_resting_heart_rate_expanded.drop(columns=['value']), df_resting_heart_rate_expanded['value'].apply(pd.Series)], axis=1)\n",
    "# df_resting_heart_rate_expanded = df_resting_heart_rate_expanded.drop(columns=['_id'])\n",
    "\n",
    "\n",
    "# df_resting_heart_rate_expanded.to_csv(\"resting_heart_rate_expanded.csv\", index=False)"
   ]
  },
  {
   "cell_type": "code",
   "execution_count": 23,
   "id": "659a88ad",
   "metadata": {},
   "outputs": [],
   "source": [
    "# df_sedentary_minutes = pd.read_csv(\"sedentary_minutes.csv\")\n",
    "\n",
    "# df_sedentary_minutes['data'] = df_sedentary_minutes['data'].apply(eval)\n",
    "# df_sedentary_minutes_expanded = pd.concat([df_sedentary_minutes.drop(columns=['data']), df_sedentary_minutes['data'].apply(pd.Series)], axis=1)\n",
    "# df_sedentary_minutes_expanded = df_sedentary_minutes_expanded.drop(columns=['_id'])\n",
    "\n",
    "# df_sedentary_minutes_expanded.to_csv(\"sedentary_minutes_expanded.csv\", index=False)"
   ]
  },
  {
   "cell_type": "code",
   "execution_count": 24,
   "id": "bf6c905b",
   "metadata": {},
   "outputs": [],
   "source": [
    "# df_daily_hrv_summary = pd.read_csv(\"daily_hrv_summary.csv\")\n",
    "\n",
    "# df_daily_hrv_summary['data'] = df_daily_hrv_summary['data'].apply(eval)\n",
    "# df_daily_hrv_summary_expanded = pd.concat([df_daily_hrv_summary.drop(columns=['data']), df_daily_hrv_summary['data'].apply(pd.Series)], axis=1)\n",
    "# df_daily_hrv_summary_expanded = df_daily_hrv_summary_expanded.drop(columns=['_id'])\n",
    "\n",
    "# df_daily_hrv_summary_expanded.to_csv(\"daily_hrv_summary_expanded.csv\", index=False)"
   ]
  },
  {
   "cell_type": "code",
   "execution_count": 25,
   "id": "55a60791",
   "metadata": {},
   "outputs": [],
   "source": [
    "# df_lightly_active_minutes = pd.read_csv(\"lightly_active_minutes.csv\")\n",
    "\n",
    "# df_lightly_active_minutes['data'] = df_lightly_active_minutes['data'].apply(eval)\n",
    "# df_lightly_active_minutes_expanded = pd.concat([df_lightly_active_minutes.drop(columns=['data']), df_lightly_active_minutes['data'].apply(pd.Series)], axis=1)\n",
    "# df_lightly_active_minutes_expanded = df_lightly_active_minutes_expanded.drop(columns=['_id'])\n",
    "\n",
    "# df_lightly_active_minutes_expanded.to_csv(\"lightly_active_minutes_expanded.csv\", index=False)"
   ]
  },
  {
   "cell_type": "code",
   "execution_count": 26,
   "id": "126c4e0b",
   "metadata": {},
   "outputs": [],
   "source": [
    "# df_moderately_active_minutes = pd.read_csv(\"moderately_active_minutes.csv\")\n",
    "\n",
    "# df_moderately_active_minutes['data'] = df_moderately_active_minutes['data'].apply(eval)\n",
    "# df_moderately_active_minutes_expanded = pd.concat([df_moderately_active_minutes.drop(columns=['data']), df_moderately_active_minutes['data'].apply(pd.Series)], axis=1)\n",
    "# df_moderately_active_minutes_expanded = df_moderately_active_minutes_expanded.drop(columns=['_id'])\n",
    "\n",
    "# df_moderately_active_minutes_expanded.to_csv(\"moderately_active_minutes_expanded_cleaned.csv\", index=False)"
   ]
  },
  {
   "cell_type": "code",
   "execution_count": 27,
   "id": "fc45a1cd",
   "metadata": {},
   "outputs": [],
   "source": [
    "# df_very_active_minutes = pd.read_csv(\"very_active_minutes.csv\")\n",
    "\n",
    "# df_very_active_minutes['data'] = df_very_active_minutes['data'].apply(eval)\n",
    "# df_very_active_minutes_expanded = pd.concat([df_very_active_minutes.drop(columns=['data']), df_very_active_minutes['data'].apply(pd.Series)], axis=1)\n",
    "# df_very_active_minutes_expanded = df_very_active_minutes_expanded.drop(columns=['_id'])\n",
    "\n",
    "# df_very_active_minutes_expanded.to_csv(\"very_active_minutes_expanded_cleaned.csv\", index=False)"
   ]
  },
  {
   "cell_type": "code",
   "execution_count": 28,
   "id": "425ee7ae",
   "metadata": {},
   "outputs": [],
   "source": [
    "# df_sleep = pd.read_csv(\"sleep.csv\")\n",
    "\n",
    "# df_sleep['data'] = df_sleep['data'].apply(eval)\n",
    "# df_sleep_expanded = pd.concat([df_sleep.drop(columns=['data']), df_sleep['data'].apply(pd.Series)], axis=1)\n",
    "# df_sleep_expanded = df_sleep_expanded.drop(columns=['_id'])\n",
    "\n",
    "# df_levels = pd.json_normalize(df_sleep_expanded['levels'])\n",
    "\n",
    "# df_sleep_expanded = df_sleep_expanded.drop(columns=['levels'])\n",
    "\n",
    "# df_sleep_expanded.to_csv(\"sleep_expanded.csv\", index=False)\n",
    "# df_levels.to_csv(\"sleep_levels_expanded.csv\", index=False)    !!!!!!!!!!!"
   ]
  },
  {
   "cell_type": "code",
   "execution_count": null,
   "id": "afb8587b",
   "metadata": {},
   "outputs": [],
   "source": [
    "# df_steps = pd.read_csv(\"steps.csv\")\n",
    "\n",
    "# df_steps['data'] = df_steps['data'].apply(eval)\n",
    "# df_steps_expanded = pd.concat([df_steps.drop(columns=['data']), df_steps['data'].apply(pd.Series)], axis=1)\n",
    "# df_steps_expanded = df_steps_expanded.drop(columns=['_id'])\n",
    "\n",
    "# df_steps_expanded.to_csv(\"steps_expanded.csv\", index=False)"
   ]
  }
 ],
 "metadata": {
  "kernelspec": {
   "display_name": "Python 3",
   "language": "python",
   "name": "python3"
  },
  "language_info": {
   "codemirror_mode": {
    "name": "ipython",
    "version": 3
   },
   "file_extension": ".py",
   "mimetype": "text/x-python",
   "name": "python",
   "nbconvert_exporter": "python",
   "pygments_lexer": "ipython3",
   "version": "3.12.2"
  }
 },
 "nbformat": 4,
 "nbformat_minor": 5
}
